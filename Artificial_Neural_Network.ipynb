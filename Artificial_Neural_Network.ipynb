{
  "nbformat": 4,
  "nbformat_minor": 0,
  "metadata": {
    "colab": {
      "name": "Copy of artificial_neural_network.ipynb",
      "provenance": [],
      "collapsed_sections": [],
      "toc_visible": true,
      "include_colab_link": true
    },
    "kernelspec": {
      "name": "python3",
      "display_name": "Python 3"
    }
  },
  "cells": [
    {
      "cell_type": "markdown",
      "metadata": {
        "id": "view-in-github",
        "colab_type": "text"
      },
      "source": [
        "<a href=\"https://colab.research.google.com/github/YashChat/Bank_Customer_Churn_-ANN/blob/master/Copy_of_artificial_neural_network.ipynb\" target=\"_parent\"><img src=\"https://colab.research.google.com/assets/colab-badge.svg\" alt=\"Open In Colab\"/></a>"
      ]
    },
    {
      "cell_type": "markdown",
      "metadata": {
        "id": "lP6JLo1tGNBg",
        "colab_type": "text"
      },
      "source": [
        "# Artificial Neural Network"
      ]
    },
    {
      "cell_type": "markdown",
      "metadata": {
        "id": "1E0Q3aoKUCRX",
        "colab_type": "text"
      },
      "source": [
        "## Part 1 - Data Preprocessing"
      ]
    },
    {
      "cell_type": "markdown",
      "metadata": {
        "id": "gWZyYmS_UE_L",
        "colab_type": "text"
      },
      "source": [
        "### Importing the libraries"
      ]
    },
    {
      "cell_type": "code",
      "metadata": {
        "id": "M6pGKClMAbkw",
        "colab_type": "code",
        "colab": {}
      },
      "source": [
        "import numpy as np\n",
        "import tensorflow as tf\n",
        "import pandas as pd"
      ],
      "execution_count": 5,
      "outputs": []
    },
    {
      "cell_type": "markdown",
      "metadata": {
        "id": "eWJobTnOA2On",
        "colab_type": "text"
      },
      "source": [
        "Check Version of Tensorflow"
      ]
    },
    {
      "cell_type": "code",
      "metadata": {
        "id": "IE55IaueAwaP",
        "colab_type": "code",
        "colab": {
          "base_uri": "https://localhost:8080/",
          "height": 35
        },
        "outputId": "ea028b7e-39d9-4f70-9243-2d9681dae18b"
      },
      "source": [
        "tf.__version__"
      ],
      "execution_count": 6,
      "outputs": [
        {
          "output_type": "execute_result",
          "data": {
            "application/vnd.google.colaboratory.intrinsic+json": {
              "type": "string"
            },
            "text/plain": [
              "'2.3.0'"
            ]
          },
          "metadata": {
            "tags": []
          },
          "execution_count": 6
        }
      ]
    },
    {
      "cell_type": "markdown",
      "metadata": {
        "id": "dnui9kbGCmp1",
        "colab_type": "text"
      },
      "source": [
        "### Importing dataset\n"
      ]
    },
    {
      "cell_type": "code",
      "metadata": {
        "id": "yMPZ5fZ1C0l8",
        "colab_type": "code",
        "colab": {}
      },
      "source": [
        "dataset = pd.read_csv('Churn_Modelling.csv')\n",
        "# Exclude first 3 columns and the last column, because they are not useful.\n",
        "# Index starts at 0.\n",
        "x = dataset.iloc[:, 3:-1].values\n",
        "\n",
        "# Just get the last column of dataset for the dependent variable.\n",
        "y = dataset.iloc[:, -1].values"
      ],
      "execution_count": 9,
      "outputs": []
    },
    {
      "cell_type": "code",
      "metadata": {
        "id": "TXXQFllPECxy",
        "colab_type": "code",
        "colab": {
          "base_uri": "https://localhost:8080/",
          "height": 136
        },
        "outputId": "dcfe4c77-2509-4568-82a3-3635f545677d"
      },
      "source": [
        "print(x)"
      ],
      "execution_count": 10,
      "outputs": [
        {
          "output_type": "stream",
          "text": [
            "[[619 'France' 'Female' ... 1 1 101348.88]\n",
            " [608 'Spain' 'Female' ... 0 1 112542.58]\n",
            " [502 'France' 'Female' ... 1 0 113931.57]\n",
            " ...\n",
            " [709 'France' 'Female' ... 0 1 42085.58]\n",
            " [772 'Germany' 'Male' ... 1 0 92888.52]\n",
            " [792 'France' 'Female' ... 1 0 38190.78]]\n"
          ],
          "name": "stdout"
        }
      ]
    },
    {
      "cell_type": "code",
      "metadata": {
        "id": "KqKsJakuEL9x",
        "colab_type": "code",
        "colab": {
          "base_uri": "https://localhost:8080/",
          "height": 34
        },
        "outputId": "f8feac43-854a-4cf1-9f80-2f1def2ddc8a"
      },
      "source": [
        "print(y)"
      ],
      "execution_count": 11,
      "outputs": [
        {
          "output_type": "stream",
          "text": [
            "[1 0 1 ... 1 1 0]\n"
          ],
          "name": "stdout"
        }
      ]
    },
    {
      "cell_type": "markdown",
      "metadata": {
        "id": "N6bQ0UgSU-NJ",
        "colab_type": "text"
      },
      "source": [
        "### Encoding categorical data"
      ]
    },
    {
      "cell_type": "markdown",
      "metadata": {
        "id": "le5MJreAbW52",
        "colab_type": "text"
      },
      "source": [
        "Label Encoding the \"Gender\" column"
      ]
    },
    {
      "cell_type": "code",
      "metadata": {
        "id": "a-xAlk2SFySc",
        "colab_type": "code",
        "colab": {}
      },
      "source": [
        "from sklearn.preprocessing import LabelEncoder\n",
        "le = LabelEncoder()\n",
        "# Get all the rwos for the 2 column and encode them.\n",
        "x[:, 2] = le.fit_transform(x[:, 2])"
      ],
      "execution_count": 12,
      "outputs": []
    },
    {
      "cell_type": "code",
      "metadata": {
        "id": "O5lp8JYcGB-9",
        "colab_type": "code",
        "colab": {
          "base_uri": "https://localhost:8080/",
          "height": 136
        },
        "outputId": "64718b9c-2048-4bba-f037-97cf3d2a39f5"
      },
      "source": [
        "print(x)"
      ],
      "execution_count": 13,
      "outputs": [
        {
          "output_type": "stream",
          "text": [
            "[[619 'France' 0 ... 1 1 101348.88]\n",
            " [608 'Spain' 0 ... 0 1 112542.58]\n",
            " [502 'France' 0 ... 1 0 113931.57]\n",
            " ...\n",
            " [709 'France' 0 ... 0 1 42085.58]\n",
            " [772 'Germany' 1 ... 1 0 92888.52]\n",
            " [792 'France' 0 ... 1 0 38190.78]]\n"
          ],
          "name": "stdout"
        }
      ]
    },
    {
      "cell_type": "markdown",
      "metadata": {
        "id": "CUxGZezpbMcb",
        "colab_type": "text"
      },
      "source": [
        "One Hot Encoding the \"Geography\" column"
      ]
    },
    {
      "cell_type": "code",
      "metadata": {
        "id": "xB5DhfbFGOa1",
        "colab_type": "code",
        "colab": {}
      },
      "source": [
        "# We do one hot coding for geographical places because they have no relation among themselves like gender did.\n",
        "from sklearn.compose import ColumnTransformer\n",
        "from sklearn.preprocessing import OneHotEncoder\n",
        "ct = ColumnTransformer(transformers=[('encoder', OneHotEncoder(), [1])], remainder='passthrough')\n",
        "x = np.array(ct.fit_transform(x))"
      ],
      "execution_count": 19,
      "outputs": []
    },
    {
      "cell_type": "code",
      "metadata": {
        "id": "uULuNtHlGx6Z",
        "colab_type": "code",
        "colab": {
          "base_uri": "https://localhost:8080/",
          "height": 136
        },
        "outputId": "2cbe5a4d-3ea1-4b53-c0d8-bd91700455a5"
      },
      "source": [
        "print (x)"
      ],
      "execution_count": 20,
      "outputs": [
        {
          "output_type": "stream",
          "text": [
            "[[1.0 0.0 0.0 ... 1 1 101348.88]\n",
            " [0.0 0.0 1.0 ... 0 1 112542.58]\n",
            " [1.0 0.0 0.0 ... 1 0 113931.57]\n",
            " ...\n",
            " [1.0 0.0 0.0 ... 0 1 42085.58]\n",
            " [0.0 1.0 0.0 ... 1 0 92888.52]\n",
            " [1.0 0.0 0.0 ... 1 0 38190.78]]\n"
          ],
          "name": "stdout"
        }
      ]
    },
    {
      "cell_type": "markdown",
      "metadata": {
        "id": "vHol938cW8zd",
        "colab_type": "text"
      },
      "source": [
        "### Splitting the dataset into the Training set and Test set"
      ]
    },
    {
      "cell_type": "code",
      "metadata": {
        "id": "Kvh-Pvd0HQBE",
        "colab_type": "code",
        "colab": {}
      },
      "source": [
        "from sklearn.model_selection import train_test_split\n",
        "X_train, X_test, y_train, y_test = train_test_split(x, y, test_size = 0.2, random_state = 1)"
      ],
      "execution_count": 23,
      "outputs": []
    },
    {
      "cell_type": "markdown",
      "metadata": {
        "id": "RE_FcHyfV3TQ",
        "colab_type": "text"
      },
      "source": [
        "### Feature Scaling"
      ]
    },
    {
      "cell_type": "code",
      "metadata": {
        "id": "yNnAKk-ZHjtG",
        "colab_type": "code",
        "colab": {}
      },
      "source": [
        "# pply feature scaling to all the features of both the training and the test set.\n",
        "from sklearn.preprocessing import StandardScaler\n",
        "sc = StandardScaler()\n",
        "# Scaling fitted only to training set to avoid information leakage.\n",
        "X_train = sc.fit_transform(X_train)\n",
        "X_test = sc.transform(X_test)"
      ],
      "execution_count": 24,
      "outputs": []
    },
    {
      "cell_type": "markdown",
      "metadata": {
        "id": "-zfEzkRVXIwF",
        "colab_type": "text"
      },
      "source": [
        "## Part 2 - Building the ANN"
      ]
    },
    {
      "cell_type": "markdown",
      "metadata": {
        "id": "KvdeScabXtlB",
        "colab_type": "text"
      },
      "source": [
        "### Initializing the ANN"
      ]
    },
    {
      "cell_type": "code",
      "metadata": {
        "id": "KbuRWuZHJfhH",
        "colab_type": "code",
        "colab": {}
      },
      "source": [
        "# Create a var to represtn the ANN as an instance of the sequential class that initializes our ANN.\n",
        "ann = tf.keras.models.Sequential()"
      ],
      "execution_count": 25,
      "outputs": []
    },
    {
      "cell_type": "markdown",
      "metadata": {
        "id": "rP6urV6SX7kS",
        "colab_type": "text"
      },
      "source": [
        "### Adding the input layer and the first hidden layer"
      ]
    },
    {
      "cell_type": "code",
      "metadata": {
        "id": "a7jOItvHJ-dm",
        "colab_type": "code",
        "colab": {}
      },
      "source": [
        "# add() method belongs to the sequential class.\n",
        "# add a fully connected layer (hidden), which will be a new object for the dense class.\n",
        "# Argument for dense() - \n",
        "# 'units' - There are called hyperparameters and are the hidden neurons.\n",
        "# 'activation' - activation function in the hidden layer must be a rectifier activation function.\n",
        "ann.add(tf.keras.layers.Dense(units=6, activation='relu')) # 'relu' - codename for rectifier activation function."
      ],
      "execution_count": 27,
      "outputs": []
    },
    {
      "cell_type": "markdown",
      "metadata": {
        "id": "BELWAc_8YJze",
        "colab_type": "text"
      },
      "source": [
        "### Adding the second hidden layer"
      ]
    },
    {
      "cell_type": "code",
      "metadata": {
        "id": "OyasTMIPLyDv",
        "colab_type": "code",
        "colab": {}
      },
      "source": [
        "ann.add(tf.keras.layers.Dense(units=6, activation='relu')) "
      ],
      "execution_count": 29,
      "outputs": []
    },
    {
      "cell_type": "markdown",
      "metadata": {
        "id": "OyNEe6RXYcU4",
        "colab_type": "text"
      },
      "source": [
        "### Adding the output layer"
      ]
    },
    {
      "cell_type": "code",
      "metadata": {
        "id": "Rzk_uINVMErN",
        "colab_type": "code",
        "colab": {}
      },
      "source": [
        "# As the output layer is binary we only need one neuron to match with the output layer, so 'units' = 1\n",
        "# We need a sigmoid activation function, because it will give the predictions, as well as the probabilities.\n",
        "# If we were predicting a categorical variable, activation = 'sigmax'\n",
        "ann.add(tf.keras.layers.Dense(units=1, activation='sigmoid')) "
      ],
      "execution_count": 30,
      "outputs": []
    },
    {
      "cell_type": "markdown",
      "metadata": {
        "id": "JT4u2S1_Y4WG",
        "colab_type": "text"
      },
      "source": [
        "## Part 3 - Training the ANN"
      ]
    },
    {
      "cell_type": "markdown",
      "metadata": {
        "id": "8GWlJChhY_ZI",
        "colab_type": "text"
      },
      "source": [
        "### Compiling the ANN"
      ]
    },
    {
      "cell_type": "code",
      "metadata": {
        "id": "CQ8W_gW-NpeR",
        "colab_type": "code",
        "colab": {}
      },
      "source": [
        "# Arguments - \n",
        "# 'optimizer' - We choose 'adam' optimizer as it can perform stochastic gradient descent. \n",
        "#  The stochastic gradient descent will optimize the weights to minimize the loss between the actual and the predicted values.\n",
        "# 'loss' - When we are doing a binary classification when we are predicting a binary variable use 'binary_crossentropy' and \n",
        "#  if we had categorical variable to predict we would have used 'categorical_crossentropy'\n",
        "# 'metrics' - \n",
        "ann.compile(optimizer='adam', loss='binary_crossentropy', metrics=['accuracy'])"
      ],
      "execution_count": 31,
      "outputs": []
    },
    {
      "cell_type": "markdown",
      "metadata": {
        "id": "0QR_G5u7ZLSM",
        "colab_type": "text"
      },
      "source": [
        "### Training the ANN on the Training set"
      ]
    },
    {
      "cell_type": "code",
      "metadata": {
        "id": "hMm4DQK_QZHP",
        "colab_type": "code",
        "colab": {
          "base_uri": "https://localhost:8080/",
          "height": 1000
        },
        "outputId": "3b3c1ca5-838a-4d4f-93b2-e9aef4c7bf40"
      },
      "source": [
        "# Batch learning, default batch size to be compared to the actual results = 32\n",
        "ann.fit(X_train, y_train, batch_size=32, epochs=100)\n",
        "# As we can see the accuracy converges around 0.86 around epoch = 20, so we didn't need 100 epochs."
      ],
      "execution_count": 32,
      "outputs": [
        {
          "output_type": "stream",
          "text": [
            "Epoch 1/100\n",
            "250/250 [==============================] - 0s 951us/step - loss: 0.5395 - accuracy: 0.7755\n",
            "Epoch 2/100\n",
            "250/250 [==============================] - 0s 966us/step - loss: 0.4612 - accuracy: 0.8060\n",
            "Epoch 3/100\n",
            "250/250 [==============================] - 0s 1ms/step - loss: 0.4340 - accuracy: 0.8146\n",
            "Epoch 4/100\n",
            "250/250 [==============================] - 0s 983us/step - loss: 0.4173 - accuracy: 0.8201\n",
            "Epoch 5/100\n",
            "250/250 [==============================] - 0s 1ms/step - loss: 0.4020 - accuracy: 0.8266\n",
            "Epoch 6/100\n",
            "250/250 [==============================] - 0s 1ms/step - loss: 0.3878 - accuracy: 0.8357\n",
            "Epoch 7/100\n",
            "250/250 [==============================] - 0s 970us/step - loss: 0.3768 - accuracy: 0.8375\n",
            "Epoch 8/100\n",
            "250/250 [==============================] - 0s 953us/step - loss: 0.3693 - accuracy: 0.8426\n",
            "Epoch 9/100\n",
            "250/250 [==============================] - 0s 1ms/step - loss: 0.3632 - accuracy: 0.8478\n",
            "Epoch 10/100\n",
            "250/250 [==============================] - 0s 920us/step - loss: 0.3587 - accuracy: 0.8518\n",
            "Epoch 11/100\n",
            "250/250 [==============================] - 0s 954us/step - loss: 0.3552 - accuracy: 0.8529\n",
            "Epoch 12/100\n",
            "250/250 [==============================] - 0s 1ms/step - loss: 0.3524 - accuracy: 0.8554\n",
            "Epoch 13/100\n",
            "250/250 [==============================] - 0s 1ms/step - loss: 0.3502 - accuracy: 0.8564\n",
            "Epoch 14/100\n",
            "250/250 [==============================] - 0s 951us/step - loss: 0.3483 - accuracy: 0.8568\n",
            "Epoch 15/100\n",
            "250/250 [==============================] - 0s 964us/step - loss: 0.3465 - accuracy: 0.8569\n",
            "Epoch 16/100\n",
            "250/250 [==============================] - 0s 923us/step - loss: 0.3454 - accuracy: 0.8591\n",
            "Epoch 17/100\n",
            "250/250 [==============================] - 0s 949us/step - loss: 0.3439 - accuracy: 0.8601\n",
            "Epoch 18/100\n",
            "250/250 [==============================] - 0s 943us/step - loss: 0.3434 - accuracy: 0.8611\n",
            "Epoch 19/100\n",
            "250/250 [==============================] - 0s 1ms/step - loss: 0.3425 - accuracy: 0.8606\n",
            "Epoch 20/100\n",
            "250/250 [==============================] - 0s 1ms/step - loss: 0.3418 - accuracy: 0.8601\n",
            "Epoch 21/100\n",
            "250/250 [==============================] - 0s 1ms/step - loss: 0.3413 - accuracy: 0.8593\n",
            "Epoch 22/100\n",
            "250/250 [==============================] - 0s 1ms/step - loss: 0.3411 - accuracy: 0.8615\n",
            "Epoch 23/100\n",
            "250/250 [==============================] - 0s 977us/step - loss: 0.3409 - accuracy: 0.8605\n",
            "Epoch 24/100\n",
            "250/250 [==============================] - 0s 956us/step - loss: 0.3406 - accuracy: 0.8612\n",
            "Epoch 25/100\n",
            "250/250 [==============================] - 0s 1ms/step - loss: 0.3400 - accuracy: 0.8625\n",
            "Epoch 26/100\n",
            "250/250 [==============================] - 0s 946us/step - loss: 0.3398 - accuracy: 0.8619\n",
            "Epoch 27/100\n",
            "250/250 [==============================] - 0s 964us/step - loss: 0.3400 - accuracy: 0.8619\n",
            "Epoch 28/100\n",
            "250/250 [==============================] - 0s 1ms/step - loss: 0.3396 - accuracy: 0.8612\n",
            "Epoch 29/100\n",
            "250/250 [==============================] - 0s 1ms/step - loss: 0.3394 - accuracy: 0.8591\n",
            "Epoch 30/100\n",
            "250/250 [==============================] - 0s 983us/step - loss: 0.3389 - accuracy: 0.8631\n",
            "Epoch 31/100\n",
            "250/250 [==============================] - 0s 997us/step - loss: 0.3386 - accuracy: 0.8621\n",
            "Epoch 32/100\n",
            "250/250 [==============================] - 0s 1ms/step - loss: 0.3390 - accuracy: 0.8630\n",
            "Epoch 33/100\n",
            "250/250 [==============================] - 0s 961us/step - loss: 0.3381 - accuracy: 0.8606\n",
            "Epoch 34/100\n",
            "250/250 [==============================] - 0s 1ms/step - loss: 0.3381 - accuracy: 0.8618\n",
            "Epoch 35/100\n",
            "250/250 [==============================] - 0s 980us/step - loss: 0.3380 - accuracy: 0.8627\n",
            "Epoch 36/100\n",
            "250/250 [==============================] - 0s 923us/step - loss: 0.3377 - accuracy: 0.8631\n",
            "Epoch 37/100\n",
            "250/250 [==============================] - 0s 1ms/step - loss: 0.3377 - accuracy: 0.8620\n",
            "Epoch 38/100\n",
            "250/250 [==============================] - 0s 987us/step - loss: 0.3376 - accuracy: 0.8626\n",
            "Epoch 39/100\n",
            "250/250 [==============================] - 0s 995us/step - loss: 0.3374 - accuracy: 0.8627\n",
            "Epoch 40/100\n",
            "250/250 [==============================] - 0s 970us/step - loss: 0.3371 - accuracy: 0.8612\n",
            "Epoch 41/100\n",
            "250/250 [==============================] - 0s 1ms/step - loss: 0.3369 - accuracy: 0.8636\n",
            "Epoch 42/100\n",
            "250/250 [==============================] - 0s 975us/step - loss: 0.3367 - accuracy: 0.8612\n",
            "Epoch 43/100\n",
            "250/250 [==============================] - 0s 966us/step - loss: 0.3364 - accuracy: 0.8639\n",
            "Epoch 44/100\n",
            "250/250 [==============================] - 0s 997us/step - loss: 0.3368 - accuracy: 0.8624\n",
            "Epoch 45/100\n",
            "250/250 [==============================] - 0s 1ms/step - loss: 0.3367 - accuracy: 0.8610\n",
            "Epoch 46/100\n",
            "250/250 [==============================] - 0s 968us/step - loss: 0.3367 - accuracy: 0.8631\n",
            "Epoch 47/100\n",
            "250/250 [==============================] - 0s 1ms/step - loss: 0.3364 - accuracy: 0.8631\n",
            "Epoch 48/100\n",
            "250/250 [==============================] - 0s 1ms/step - loss: 0.3365 - accuracy: 0.8622\n",
            "Epoch 49/100\n",
            "250/250 [==============================] - 0s 1ms/step - loss: 0.3358 - accuracy: 0.8624\n",
            "Epoch 50/100\n",
            "250/250 [==============================] - 0s 1ms/step - loss: 0.3354 - accuracy: 0.8630\n",
            "Epoch 51/100\n",
            "250/250 [==============================] - 0s 1ms/step - loss: 0.3360 - accuracy: 0.8645\n",
            "Epoch 52/100\n",
            "250/250 [==============================] - 0s 1ms/step - loss: 0.3353 - accuracy: 0.8635\n",
            "Epoch 53/100\n",
            "250/250 [==============================] - 0s 981us/step - loss: 0.3351 - accuracy: 0.8637\n",
            "Epoch 54/100\n",
            "250/250 [==============================] - 0s 1ms/step - loss: 0.3353 - accuracy: 0.8633\n",
            "Epoch 55/100\n",
            "250/250 [==============================] - 0s 1ms/step - loss: 0.3352 - accuracy: 0.8636\n",
            "Epoch 56/100\n",
            "250/250 [==============================] - 0s 1ms/step - loss: 0.3351 - accuracy: 0.8633\n",
            "Epoch 57/100\n",
            "250/250 [==============================] - 0s 1ms/step - loss: 0.3354 - accuracy: 0.8627\n",
            "Epoch 58/100\n",
            "250/250 [==============================] - 0s 1ms/step - loss: 0.3353 - accuracy: 0.8629\n",
            "Epoch 59/100\n",
            "250/250 [==============================] - 0s 1ms/step - loss: 0.3349 - accuracy: 0.8630\n",
            "Epoch 60/100\n",
            "250/250 [==============================] - 0s 1ms/step - loss: 0.3349 - accuracy: 0.8629\n",
            "Epoch 61/100\n",
            "250/250 [==============================] - 0s 984us/step - loss: 0.3345 - accuracy: 0.8631\n",
            "Epoch 62/100\n",
            "250/250 [==============================] - 0s 968us/step - loss: 0.3348 - accuracy: 0.8636\n",
            "Epoch 63/100\n",
            "250/250 [==============================] - 0s 967us/step - loss: 0.3342 - accuracy: 0.8624\n",
            "Epoch 64/100\n",
            "250/250 [==============================] - 0s 1ms/step - loss: 0.3348 - accuracy: 0.8620\n",
            "Epoch 65/100\n",
            "250/250 [==============================] - 0s 1ms/step - loss: 0.3344 - accuracy: 0.8618\n",
            "Epoch 66/100\n",
            "250/250 [==============================] - 0s 1ms/step - loss: 0.3343 - accuracy: 0.8624\n",
            "Epoch 67/100\n",
            "250/250 [==============================] - 0s 1ms/step - loss: 0.3342 - accuracy: 0.8630\n",
            "Epoch 68/100\n",
            "250/250 [==============================] - 0s 1ms/step - loss: 0.3347 - accuracy: 0.8615\n",
            "Epoch 69/100\n",
            "250/250 [==============================] - 0s 1ms/step - loss: 0.3342 - accuracy: 0.8621\n",
            "Epoch 70/100\n",
            "250/250 [==============================] - 0s 1ms/step - loss: 0.3342 - accuracy: 0.8609\n",
            "Epoch 71/100\n",
            "250/250 [==============================] - 0s 1ms/step - loss: 0.3341 - accuracy: 0.8645\n",
            "Epoch 72/100\n",
            "250/250 [==============================] - 0s 1ms/step - loss: 0.3341 - accuracy: 0.8624\n",
            "Epoch 73/100\n",
            "250/250 [==============================] - 0s 1ms/step - loss: 0.3339 - accuracy: 0.8633\n",
            "Epoch 74/100\n",
            "250/250 [==============================] - 0s 956us/step - loss: 0.3341 - accuracy: 0.8631\n",
            "Epoch 75/100\n",
            "250/250 [==============================] - 0s 1ms/step - loss: 0.3338 - accuracy: 0.8626\n",
            "Epoch 76/100\n",
            "250/250 [==============================] - 0s 983us/step - loss: 0.3340 - accuracy: 0.8622\n",
            "Epoch 77/100\n",
            "250/250 [==============================] - 0s 985us/step - loss: 0.3332 - accuracy: 0.8619\n",
            "Epoch 78/100\n",
            "250/250 [==============================] - 0s 1ms/step - loss: 0.3336 - accuracy: 0.8634\n",
            "Epoch 79/100\n",
            "250/250 [==============================] - 0s 1ms/step - loss: 0.3337 - accuracy: 0.8629\n",
            "Epoch 80/100\n",
            "250/250 [==============================] - 0s 960us/step - loss: 0.3342 - accuracy: 0.8609\n",
            "Epoch 81/100\n",
            "250/250 [==============================] - 0s 955us/step - loss: 0.3336 - accuracy: 0.8616\n",
            "Epoch 82/100\n",
            "250/250 [==============================] - 0s 938us/step - loss: 0.3335 - accuracy: 0.8616\n",
            "Epoch 83/100\n",
            "250/250 [==============================] - 0s 1ms/step - loss: 0.3333 - accuracy: 0.8639\n",
            "Epoch 84/100\n",
            "250/250 [==============================] - 0s 1ms/step - loss: 0.3328 - accuracy: 0.8644\n",
            "Epoch 85/100\n",
            "250/250 [==============================] - 0s 972us/step - loss: 0.3332 - accuracy: 0.8618\n",
            "Epoch 86/100\n",
            "250/250 [==============================] - 0s 1000us/step - loss: 0.3336 - accuracy: 0.8630\n",
            "Epoch 87/100\n",
            "250/250 [==============================] - 0s 1ms/step - loss: 0.3330 - accuracy: 0.8618\n",
            "Epoch 88/100\n",
            "250/250 [==============================] - 0s 923us/step - loss: 0.3334 - accuracy: 0.8629\n",
            "Epoch 89/100\n",
            "250/250 [==============================] - 0s 969us/step - loss: 0.3328 - accuracy: 0.8615\n",
            "Epoch 90/100\n",
            "250/250 [==============================] - 0s 934us/step - loss: 0.3329 - accuracy: 0.8621\n",
            "Epoch 91/100\n",
            "250/250 [==============================] - 0s 1ms/step - loss: 0.3331 - accuracy: 0.8635\n",
            "Epoch 92/100\n",
            "250/250 [==============================] - 0s 1ms/step - loss: 0.3328 - accuracy: 0.8620\n",
            "Epoch 93/100\n",
            "250/250 [==============================] - 0s 1ms/step - loss: 0.3329 - accuracy: 0.8625\n",
            "Epoch 94/100\n",
            "250/250 [==============================] - 0s 965us/step - loss: 0.3331 - accuracy: 0.8652\n",
            "Epoch 95/100\n",
            "250/250 [==============================] - 0s 963us/step - loss: 0.3329 - accuracy: 0.8614\n",
            "Epoch 96/100\n",
            "250/250 [==============================] - 0s 1000us/step - loss: 0.3325 - accuracy: 0.8622\n",
            "Epoch 97/100\n",
            "250/250 [==============================] - 0s 979us/step - loss: 0.3329 - accuracy: 0.8629\n",
            "Epoch 98/100\n",
            "250/250 [==============================] - 0s 1ms/step - loss: 0.3327 - accuracy: 0.8629\n",
            "Epoch 99/100\n",
            "250/250 [==============================] - 0s 1ms/step - loss: 0.3328 - accuracy: 0.8649\n",
            "Epoch 100/100\n",
            "250/250 [==============================] - 0s 1ms/step - loss: 0.3323 - accuracy: 0.8624\n"
          ],
          "name": "stdout"
        },
        {
          "output_type": "execute_result",
          "data": {
            "text/plain": [
              "<tensorflow.python.keras.callbacks.History at 0x7f86ea096fd0>"
            ]
          },
          "metadata": {
            "tags": []
          },
          "execution_count": 32
        }
      ]
    },
    {
      "cell_type": "markdown",
      "metadata": {
        "id": "tJj5k2MxZga3",
        "colab_type": "text"
      },
      "source": [
        "## Part 4 - Making the predictions and evaluating the model"
      ]
    },
    {
      "cell_type": "markdown",
      "metadata": {
        "id": "84QFoqGYeXHL",
        "colab_type": "text"
      },
      "source": [
        "### Predicting the result of a single observation"
      ]
    },
    {
      "cell_type": "markdown",
      "metadata": {
        "id": "CGRo3eacgDdC",
        "colab_type": "text"
      },
      "source": [
        "**Homework**\n",
        "\n",
        "Use our ANN model to predict if the customer with the following informations will leave the bank: \n",
        "\n",
        "Geography: France\n",
        "\n",
        "Credit Score: 600\n",
        "\n",
        "Gender: Male\n",
        "\n",
        "Age: 40 years old\n",
        "\n",
        "Tenure: 3 years\n",
        "\n",
        "Balance: \\$ 60000\n",
        "\n",
        "Number of Products: 2\n",
        "\n",
        "Does this customer have a credit card? Yes\n",
        "\n",
        "Is this customer an Active Member: Yes\n",
        "\n",
        "Estimated Salary: \\$ 50000\n",
        "\n",
        "So, should we say goodbye to that customer?"
      ]
    },
    {
      "cell_type": "markdown",
      "metadata": {
        "id": "ZhU1LTgPg-kH",
        "colab_type": "text"
      },
      "source": [
        "**Solution**"
      ]
    },
    {
      "cell_type": "code",
      "metadata": {
        "id": "qi6KZBiBSZon",
        "colab_type": "code",
        "colab": {}
      },
      "source": [
        "ann.predict"
      ],
      "execution_count": null,
      "outputs": []
    },
    {
      "cell_type": "markdown",
      "metadata": {
        "id": "wGjx94g2n7OV",
        "colab_type": "text"
      },
      "source": [
        "Therefore, our ANN model predicts that this customer stays in the bank!\n",
        "\n",
        "**Important note 1:** Notice that the values of the features were all input in a double pair of square brackets. That's because the \"predict\" method always expects a 2D array as the format of its inputs. And putting our values into a double pair of square brackets makes the input exactly a 2D array.\n",
        "\n",
        "**Important note 2:** Notice also that the \"France\" country was not input as a string in the last column but as \"1, 0, 0\" in the first three columns. That's because of course the predict method expects the one-hot-encoded values of the state, and as we see in the first row of the matrix of features X, \"France\" was encoded as \"1, 0, 0\". And be careful to include these values in the first three columns, because the dummy variables are always created in the first columns."
      ]
    },
    {
      "cell_type": "markdown",
      "metadata": {
        "id": "u7yx47jPZt11",
        "colab_type": "text"
      },
      "source": [
        "### Predicting the Test set results"
      ]
    },
    {
      "cell_type": "markdown",
      "metadata": {
        "id": "o0oyfLWoaEGw",
        "colab_type": "text"
      },
      "source": [
        "### Making the Confusion Matrix"
      ]
    }
  ]
}
